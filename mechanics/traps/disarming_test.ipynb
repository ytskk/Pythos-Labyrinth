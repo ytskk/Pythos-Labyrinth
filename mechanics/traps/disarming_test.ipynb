{
 "cells": [
  {
   "cell_type": "code",
   "execution_count": 502,
   "metadata": {
    "collapsed": false
   },
   "outputs": [],
   "source": [
    "import random\n",
    "from typing import Any\n",
    "\n",
    "\n",
    "class Trap:\n",
    "    def __init__(self, level: int):\n",
    "        self.level = level\n",
    "\n",
    "    def generate_requirements(self):\n",
    "        requirements: dict[str, Any] = {\n",
    "            \"level\": self.level,\n",
    "            \"agility\": 0,\n",
    "            \"intelligence\": 0,\n",
    "        }\n",
    "\n",
    "        addition_base: int = 3\n",
    "        addition: int = random.randint(addition_base + self.level, addition_base+self.level * 3)\n",
    "\n",
    "        lower_limit: int = 30 + addition\n",
    "        upper_limit: int = random.randint(lower_limit, lower_limit + addition)\n",
    "\n",
    "        print(f\"{addition=}, {lower_limit=}, {upper_limit=}\")\n",
    "\n",
    "        requirements[\"agility\"] = random.randint(lower_limit, upper_limit)\n",
    "        requirements[\"intelligence\"] = random.randint(lower_limit, upper_limit)\n",
    "\n",
    "        return requirements"
   ]
  },
  {
   "cell_type": "code",
   "execution_count": 503,
   "metadata": {
    "collapsed": true
   },
   "outputs": [],
   "source": [
    "def disarm_chance(\n",
    "    intelligence: int,\n",
    "    agility: int,\n",
    "    luck: int,\n",
    "    requirements: dict[str, Any],\n",
    "):\n",
    "    base_chance: float = 30\n",
    "    chance = base_chance + (agility - requirements[\"agility\"]) + (intelligence - requirements[\"intelligence\"]) + (luck - 50) * 1.5\n",
    "\n",
    "    chance = max(chance, 0)\n",
    "    return min(chance, 100)"
   ]
  },
  {
   "cell_type": "code",
   "execution_count": 504,
   "metadata": {
    "collapsed": false
   },
   "outputs": [
    {
     "name": "stdout",
     "output_type": "stream",
     "text": [
      "addition=6, lower_limit=36, upper_limit=40\n",
      "Have:\tagility=40, intelligence=35, luck=70,\n",
      "Need:\tagility=36, intelligence=37,\n",
      "Chance: 62.00%\n"
     ]
    }
   ],
   "source": [
    "trap = Trap(level=1)\n",
    "\n",
    "intelligence: int = 35\n",
    "agility: int = 40\n",
    "luck: int = 45\n",
    "\n",
    "requirements = trap.generate_requirements()\n",
    "\n",
    "chance = disarm_chance(\n",
    "    intelligence,\n",
    "    agility,\n",
    "    luck,\n",
    "    requirements=requirements,\n",
    ")\n",
    "\n",
    "\n",
    "print(\n",
    "    f\"Have:\\t{agility=}, {intelligence=}, {luck=},\\nNeed:\\tagility={requirements['agility']}, intelligence={requirements['intelligence']},\\nChance: {chance:.2f}%\"\n",
    ")"
   ]
  }
 ],
 "metadata": {
  "kernelspec": {
   "display_name": "Python 3",
   "language": "python",
   "name": "python3"
  },
  "language_info": {
   "codemirror_mode": {
    "name": "ipython",
    "version": 3
   },
   "file_extension": ".py",
   "mimetype": "text/x-python",
   "name": "python",
   "nbconvert_exporter": "python",
   "pygments_lexer": "ipython3",
   "version": "3.11.1"
  },
  "vscode": {
   "interpreter": {
    "hash": "5c7b89af1651d0b8571dde13640ecdccf7d5a6204171d6ab33e7c296e100e08a"
   }
  }
 },
 "nbformat": 4,
 "nbformat_minor": 0
}
